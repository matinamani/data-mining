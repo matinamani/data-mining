{
 "cells": [
  {
   "cell_type": "markdown",
   "metadata": {},
   "source": [
    "# <center>Data Mining Project</center>\n",
    "\n",
    "### <center>Matin Amani - 981152107</center>\n",
    "\n",
    "### <font color=\"#09c\">Phase 1</font>\n",
    "\n",
    "1. Read train data from `./data/train.csv` and separate the features and label column.\n"
   ]
  },
  {
   "cell_type": "code",
   "execution_count": 1,
   "metadata": {},
   "outputs": [
    {
     "name": "stdout",
     "output_type": "stream",
     "text": [
      "train_data Shape: (103, 4)\n",
      "test_data Shape: (47, 4)\n"
     ]
    }
   ],
   "source": [
    "import pandas as pd\n",
    "import numpy as np\n",
    "import matplotlib.pyplot as plt\n",
    "import seaborn as sns\n",
    "from scipy import stats\n",
    "from sklearn.metrics import (\n",
    "    accuracy_score,\n",
    "    precision_score,\n",
    "    recall_score,\n",
    "    f1_score,\n",
    ")\n",
    "from utils import k_means, k_means_predict, knn\n",
    "\n",
    "sns.set_theme()\n",
    "\n",
    "train_df = pd.read_csv(\"data/train.csv\")\n",
    "train_data = np.array(train_df.iloc[:, :-1].values)\n",
    "train_labels = np.array(train_df.iloc[:, -1].values)\n",
    "\n",
    "test_df = pd.read_csv(\"data/test.csv\")\n",
    "test_data = np.array(test_df.iloc[:, :-1].values)\n",
    "test_labels = np.array(test_df.iloc[:, -1].values)\n",
    "\n",
    "print(f\"train_data Shape: {train_data.shape}\")\n",
    "print(f\"test_data Shape: {test_data.shape}\")"
   ]
  },
  {
   "cell_type": "markdown",
   "metadata": {},
   "source": [
    "2. Using k-means clustering, divide `train_data` into `k` clusters(`k` will be given by the user) and save centroids.\n"
   ]
  },
  {
   "cell_type": "code",
   "execution_count": 2,
   "metadata": {},
   "outputs": [
    {
     "data": {
      "text/plain": [
       "array([[5.29193548, 3.13709677, 2.60645161, 0.69516129],\n",
       "       [6.13333333, 2.73333333, 4.86      , 1.68666667],\n",
       "       [6.95      , 3.06538462, 5.83076923, 2.01153846]])"
      ]
     },
     "execution_count": 2,
     "metadata": {},
     "output_type": "execute_result"
    }
   ],
   "source": [
    "k = 3\n",
    "centroids, train_predicted_labels, train_clusters = k_means(train_data, k)\n",
    "\n",
    "centroids"
   ]
  },
  {
   "cell_type": "markdown",
   "metadata": {},
   "source": [
    "### <font color=\"#09c\">Phase 2</font>\n",
    "\n",
    "2. Calculate the distances between `test_data` and centroids. Predict each sample's label.\n"
   ]
  },
  {
   "cell_type": "code",
   "execution_count": 3,
   "metadata": {},
   "outputs": [
    {
     "data": {
      "text/plain": [
       "array([1, 1, 1, 1, 1, 1, 1, 1, 1, 1, 1, 1, 1, 1, 1, 1, 2, 2, 2, 2, 2, 2,\n",
       "       2, 2, 2, 2, 2, 2, 2, 2, 1, 2, 3, 3, 3, 2, 3, 3, 3, 2, 3, 3, 3, 2,\n",
       "       2, 3, 2])"
      ]
     },
     "execution_count": 3,
     "metadata": {},
     "output_type": "execute_result"
    }
   ],
   "source": [
    "(\n",
    "    test_distances_from_centroids,\n",
    "    test_labels_with_k_means,\n",
    "    test_clusters,\n",
    ") = k_means_predict(test_data, centroids)\n",
    "\n",
    "test_labels_with_k_means"
   ]
  },
  {
   "cell_type": "markdown",
   "metadata": {},
   "source": [
    "3. run `knn` on each test sample. use different `k`'s and determine the best value for `k`.\n"
   ]
  },
  {
   "cell_type": "code",
   "execution_count": 4,
   "metadata": {},
   "outputs": [
    {
     "data": {
      "text/plain": [
       "<matplotlib.legend.Legend at 0x177ed3730>"
      ]
     },
     "execution_count": 4,
     "metadata": {},
     "output_type": "execute_result"
    }
   ],
   "source": [
    "accuracy = []\n",
    "x = range(1, 26)\n",
    "\n",
    "for k in x:\n",
    "    k_nearest_samples = knn(test_data, train_data, k)\n",
    "    k_nearest_types = train_labels[k_nearest_samples]\n",
    "    test_labels_with_knn = stats.mode(k_nearest_types, axis=1).mode\n",
    "    accuracy.append(accuracy_score(test_labels, test_labels_with_knn))\n",
    "\n",
    "fig, ax = plt.subplots(dpi=150)\n",
    "ax.plot(x, accuracy, label=\"accuracy\")\n",
    "ax.set_title(\"Accuracy-K plot\", fontsize=18)\n",
    "ax.set_xlabel(\"k\")\n",
    "ax.set_ylabel(\"Accuracy\")\n",
    "ax.legend()"
   ]
  },
  {
   "cell_type": "markdown",
   "metadata": {},
   "source": [
    "Based on above plot, `k = 12` returns the best accuracy for the test samples without overfitting.\n",
    "\n",
    "4. Predict test labels using `KNN` and the best value for `k`\n"
   ]
  },
  {
   "cell_type": "code",
   "execution_count": null,
   "metadata": {},
   "outputs": [
    {
     "data": {
      "text/plain": [
       "array([1, 1, 1, 1, 1, 1, 1, 1, 1, 1, 1, 1, 1, 1, 1, 2, 2, 2, 2, 2, 2, 2,\n",
       "       2, 2, 2, 2, 2, 2, 2, 2, 2, 3, 3, 3, 3, 2, 3, 3, 3, 3, 3, 3, 3, 3,\n",
       "       3, 3, 3])"
      ]
     },
     "execution_count": 5,
     "metadata": {},
     "output_type": "execute_result"
    }
   ],
   "source": [
    "k = 12\n",
    "k_nearest_samples = knn(test_data, train_data, k)\n",
    "k_nearest_types = train_labels[k_nearest_samples]\n",
    "test_labels_with_knn = stats.mode(k_nearest_types, axis=1).mode\n",
    "\n",
    "test_labels_with_knn"
   ]
  },
  {
   "cell_type": "markdown",
   "metadata": {},
   "source": [
    "### <font color=\"#09c\">Phase 3</font>\n",
    "\n",
    "Calculate `accuracy`, `precision`, `recall` and `f1` for the predicted test labels.\n"
   ]
  },
  {
   "cell_type": "code",
   "execution_count": null,
   "metadata": {},
   "outputs": [
    {
     "name": "stdout",
     "output_type": "stream",
     "text": [
      "Accuracy: 0.9787234042553191\n",
      "Precision: 0.9803921568627452\n",
      "Recall: 0.9791666666666666\n",
      "F1-score: 0.9791463017269469\n"
     ]
    }
   ],
   "source": [
    "avg = \"macro\"\n",
    "\n",
    "accuracy = accuracy_score(test_labels, test_labels_with_knn)\n",
    "\n",
    "precision = precision_score(\n",
    "    test_labels, test_labels_with_knn, average=avg\n",
    ")\n",
    "\n",
    "recall = recall_score(test_labels, test_labels_with_knn, average=avg)\n",
    "\n",
    "f1 = f1_score(test_labels, test_labels_with_knn, average=avg)\n",
    "\n",
    "print(\"Accuracy:\", accuracy)\n",
    "print(\"Precision:\", precision)\n",
    "print(\"Recall:\", recall)\n",
    "print(\"F1-score:\", f1)"
   ]
  }
 ],
 "metadata": {
  "kernelspec": {
   "display_name": "data-mining-VzLyLyFO",
   "language": "python",
   "name": "python3"
  },
  "language_info": {
   "codemirror_mode": {
    "name": "ipython",
    "version": 3
   },
   "file_extension": ".py",
   "mimetype": "text/x-python",
   "name": "python",
   "nbconvert_exporter": "python",
   "pygments_lexer": "ipython3",
   "version": "3.10.4"
  }
 },
 "nbformat": 4,
 "nbformat_minor": 2
}
